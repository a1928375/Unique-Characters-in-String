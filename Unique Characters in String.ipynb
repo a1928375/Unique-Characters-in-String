{
 "cells": [
  {
   "cell_type": "markdown",
   "metadata": {},
   "source": [
    "# Mine"
   ]
  },
  {
   "cell_type": "code",
   "execution_count": 8,
   "metadata": {},
   "outputs": [
    {
     "name": "stdout",
     "output_type": "stream",
     "text": [
      "True\n",
      "False\n",
      "True\n",
      "2.86 µs ± 1.09 µs per loop (mean ± std. dev. of 7 runs, 100000 loops each)\n"
     ]
    }
   ],
   "source": [
    "def uni_char(s):\n",
    "    \n",
    "    H = {}\n",
    "    \n",
    "    for ele in s:\n",
    "        \n",
    "        if ele not in H:\n",
    "            H[ele] = 1\n",
    "        \n",
    "        else:\n",
    "            return False\n",
    "    \n",
    "    return True    \n",
    "\n",
    "\n",
    "s = ''\n",
    "print (uni_char(s))\n",
    "\n",
    "s = 'goo'\n",
    "print (uni_char(s))\n",
    "\n",
    "s = 'abcdefg'\n",
    "print (uni_char(s))\n",
    "\n",
    "%timeit uni_char(\"abcdefghijklmnopqrstuvwxyz\")"
   ]
  },
  {
   "cell_type": "markdown",
   "metadata": {},
   "source": [
    "# Instructor-1\n",
    "# valid solution => in an interview setting you'll have to work out the basic algorithm that is used"
   ]
  },
  {
   "cell_type": "code",
   "execution_count": 9,
   "metadata": {},
   "outputs": [
    {
     "name": "stdout",
     "output_type": "stream",
     "text": [
      "1.25 µs ± 277 ns per loop (mean ± std. dev. of 7 runs, 1000000 loops each)\n"
     ]
    }
   ],
   "source": [
    "def uni_char(s):\n",
    "    \n",
    "    return len(set(s)) == len(s)\n",
    "\n",
    "%timeit uni_char(\"abcdefghijklmnopqrstuvwxyz\")"
   ]
  },
  {
   "cell_type": "markdown",
   "metadata": {},
   "source": [
    "# Instructor-2"
   ]
  },
  {
   "cell_type": "code",
   "execution_count": 10,
   "metadata": {},
   "outputs": [
    {
     "name": "stdout",
     "output_type": "stream",
     "text": [
      "1.4 µs ± 401 ns per loop (mean ± std. dev. of 7 runs, 1000000 loops each)\n"
     ]
    }
   ],
   "source": [
    "def uni_char2(s):\n",
    "    \n",
    "    chars = set()\n",
    "    \n",
    "    for let in s:\n",
    "        \n",
    "        # Check if in set\n",
    "        if let in chars:\n",
    "            return False\n",
    "        \n",
    "        else:\n",
    "            #Add it to the set\n",
    "            chars.add(let)\n",
    "            \n",
    "    return True\n",
    "\n",
    "%timeit uni_char(\"abcdefghijklmnopqrstuvwxyz\")"
   ]
  }
 ],
 "metadata": {
  "kernelspec": {
   "display_name": "Python 3",
   "language": "python",
   "name": "python3"
  },
  "language_info": {
   "codemirror_mode": {
    "name": "ipython",
    "version": 3
   },
   "file_extension": ".py",
   "mimetype": "text/x-python",
   "name": "python",
   "nbconvert_exporter": "python",
   "pygments_lexer": "ipython3",
   "version": "3.7.3"
  }
 },
 "nbformat": 4,
 "nbformat_minor": 2
}
